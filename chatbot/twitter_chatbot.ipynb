{
 "cells": [
  {
   "cell_type": "code",
   "execution_count": 3,
   "metadata": {},
   "outputs": [],
   "source": [
    "# each output line should be:\n",
    "# INPUT<tab>RESPONSE\n",
    "with open('../large_files/dialogue-dataset/twitter_tab_format.txt', 'w') as f:\n",
    "  prev_line = None\n",
    "  # data source: https://github.com/Phylliida/Dialogue-Datasets\n",
    "  for line in open('../large_files/dialogue-dataset/TwitterLowerAsciiCorpus.txt'):\n",
    "    line = line.rstrip()\n",
    "\n",
    "    if prev_line and line:\n",
    "      f.write(\"%s\\t%s\\n\" % (prev_line, line))\n",
    "\n",
    "    # note:\n",
    "    # between conversations there are empty lines\n",
    "    # which evaluate to false\n",
    "\n",
    "    prev_line = line"
   ]
  }
 ],
 "metadata": {
  "kernelspec": {
   "display_name": "Python 3",
   "language": "python",
   "name": "python3"
  },
  "language_info": {
   "codemirror_mode": {
    "name": "ipython",
    "version": 3
   },
   "file_extension": ".py",
   "mimetype": "text/x-python",
   "name": "python",
   "nbconvert_exporter": "python",
   "pygments_lexer": "ipython3",
   "version": "3.6.9"
  },
  "toc": {
   "base_numbering": 1,
   "nav_menu": {},
   "number_sections": false,
   "sideBar": true,
   "skip_h1_title": false,
   "title_cell": "Table of Contents",
   "title_sidebar": "Contents",
   "toc_cell": false,
   "toc_position": {},
   "toc_section_display": true,
   "toc_window_display": false
  },
  "varInspector": {
   "cols": {
    "lenName": 16,
    "lenType": 16,
    "lenVar": 40
   },
   "kernels_config": {
    "python": {
     "delete_cmd_postfix": "",
     "delete_cmd_prefix": "del ",
     "library": "var_list.py",
     "varRefreshCmd": "print(var_dic_list())"
    },
    "r": {
     "delete_cmd_postfix": ") ",
     "delete_cmd_prefix": "rm(",
     "library": "var_list.r",
     "varRefreshCmd": "cat(var_dic_list()) "
    }
   },
   "types_to_exclude": [
    "module",
    "function",
    "builtin_function_or_method",
    "instance",
    "_Feature"
   ],
   "window_display": false
  }
 },
 "nbformat": 4,
 "nbformat_minor": 2
}
