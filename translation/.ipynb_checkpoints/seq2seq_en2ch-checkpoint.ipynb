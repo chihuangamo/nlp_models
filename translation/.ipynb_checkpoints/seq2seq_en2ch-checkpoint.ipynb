{
 "cells": [
  {
   "cell_type": "code",
   "execution_count": 1,
   "metadata": {},
   "outputs": [
    {
     "name": "stderr",
     "output_type": "stream",
     "text": [
      "Using TensorFlow backend.\n"
     ]
    }
   ],
   "source": [
    "import os, sys\n",
    "\n",
    "from keras.models import Model\n",
    "from keras.layers import Input, LSTM, GRU, Dense, Embedding\n",
    "from keras.preprocessing.text import Tokenizer\n",
    "from keras.preprocessing.sequence import pad_sequences\n",
    "from keras.utils import to_categorical\n",
    "import numpy as np\n",
    "import matplotlib.pyplot as plt\n",
    "import jieba\n",
    "import keras.backend as K\n",
    "# if len(K.tensorflow_backend._get_available_gpus()) > 0:\n",
    "#   print(\"GPU available\")\n",
    "#   from keras.layers import CuDNNLSTM as LSTM\n",
    "#   from keras.layers import CuDNNGRU as GRU"
   ]
  },
  {
   "cell_type": "code",
   "execution_count": 2,
   "metadata": {},
   "outputs": [],
   "source": [
    "BATCH_SIZE = 64 \n",
    "EPOCHS = 50  \n",
    "LATENT_DIM = 256  \n",
    "NUM_SAMPLES = 10000 \n",
    "MAX_NUM_WORDS = 20000\n",
    "EMBEDDING_DIM = 100\n",
    "\n",
    "input_texts = []\n",
    "target_texts = [] \n",
    "target_texts_inputs = [] "
   ]
  },
  {
   "cell_type": "code",
   "execution_count": 3,
   "metadata": {},
   "outputs": [
    {
     "name": "stdout",
     "output_type": "stream",
     "text": [
      "num samples: 10000\n"
     ]
    }
   ],
   "source": [
    "t = 0\n",
    "for line in open('../large_files/translation/cmn.txt', encoding='utf-8'):\n",
    "  t += 1\n",
    "  if t > NUM_SAMPLES:\n",
    "    break\n",
    "\n",
    "  if '\\t' not in line:\n",
    "    continue\n",
    "\n",
    "  input_text, translation, _ = line.rstrip().split('\\t')\n",
    "\n",
    "  target_text = translation \n",
    "  target_text_input = translation\n",
    "\n",
    "  input_texts.append(input_text)\n",
    "  target_texts.append(target_text)\n",
    "  target_texts_inputs.append(target_text_input)\n",
    "print(\"num samples:\", len(input_texts))"
   ]
  },
  {
   "cell_type": "code",
   "execution_count": 4,
   "metadata": {},
   "outputs": [
    {
     "name": "stdout",
     "output_type": "stream",
     "text": [
      "Found 3472 unique input tokens.\n"
     ]
    }
   ],
   "source": [
    "# tokenize the inputs\n",
    "tokenizer_inputs = Tokenizer(num_words=MAX_NUM_WORDS)\n",
    "tokenizer_inputs.fit_on_texts(input_texts)\n",
    "input_sequences = tokenizer_inputs.texts_to_sequences(input_texts)\n",
    "\n",
    "# get the word to index mapping for input language\n",
    "word2idx_inputs = tokenizer_inputs.word_index\n",
    "print('Found %s unique input tokens.' % len(word2idx_inputs))"
   ]
  },
  {
   "cell_type": "code",
   "execution_count": 5,
   "metadata": {},
   "outputs": [],
   "source": [
    "max_len_input = max(len(s) for s in input_sequences)"
   ]
  },
  {
   "cell_type": "code",
   "execution_count": 2,
   "metadata": {
    "code_folding": []
   },
   "outputs": [],
   "source": [
    "#for chinese, using jieba to tokenize => establish word2idx => establish target sequences\n",
    "\n",
    "stop_words = []\n",
    "with open('../../machine_learning_examples//corpus/stop_words.txt') as f:\n",
    "    for line in f:\n",
    "        stop_words.append(line.rstrip())"
   ]
  },
  {
   "cell_type": "code",
   "execution_count": 3,
   "metadata": {},
   "outputs": [
    {
     "ename": "NameError",
     "evalue": "name 'target_texts' is not defined",
     "output_type": "error",
     "traceback": [
      "\u001b[1;31m---------------------------------------------------------------------------\u001b[0m",
      "\u001b[1;31mNameError\u001b[0m                                 Traceback (most recent call last)",
      "\u001b[1;32m<ipython-input-3-0ebc5cf19997>\u001b[0m in \u001b[0;36m<module>\u001b[1;34m\u001b[0m\n\u001b[0;32m      1\u001b[0m \u001b[0mtarget_seg\u001b[0m \u001b[1;33m=\u001b[0m \u001b[1;33m[\u001b[0m\u001b[1;33m]\u001b[0m\u001b[1;33m\u001b[0m\u001b[1;33m\u001b[0m\u001b[0m\n\u001b[0;32m      2\u001b[0m \u001b[0mtarget_input_seg\u001b[0m \u001b[1;33m=\u001b[0m \u001b[1;33m[\u001b[0m\u001b[1;33m]\u001b[0m\u001b[1;33m\u001b[0m\u001b[1;33m\u001b[0m\u001b[0m\n\u001b[1;32m----> 3\u001b[1;33m \u001b[1;32mfor\u001b[0m \u001b[0mt\u001b[0m \u001b[1;32min\u001b[0m \u001b[0mtarget_texts\u001b[0m\u001b[1;33m:\u001b[0m\u001b[1;33m\u001b[0m\u001b[1;33m\u001b[0m\u001b[0m\n\u001b[0m\u001b[0;32m      4\u001b[0m     \u001b[0mseg\u001b[0m \u001b[1;33m=\u001b[0m \u001b[0mjieba\u001b[0m\u001b[1;33m.\u001b[0m\u001b[0mlcut\u001b[0m\u001b[1;33m(\u001b[0m\u001b[0mt\u001b[0m\u001b[1;33m)\u001b[0m\u001b[1;33m\u001b[0m\u001b[1;33m\u001b[0m\u001b[0m\n\u001b[0;32m      5\u001b[0m     \u001b[0mseg\u001b[0m \u001b[1;33m=\u001b[0m \u001b[1;33m[\u001b[0m\u001b[0ms\u001b[0m \u001b[1;32mfor\u001b[0m \u001b[0ms\u001b[0m \u001b[1;32min\u001b[0m \u001b[0mseg\u001b[0m \u001b[1;32mif\u001b[0m \u001b[0ms\u001b[0m \u001b[1;32mnot\u001b[0m \u001b[1;32min\u001b[0m \u001b[0mstop_words\u001b[0m\u001b[1;33m]\u001b[0m\u001b[1;33m\u001b[0m\u001b[1;33m\u001b[0m\u001b[0m\n",
      "\u001b[1;31mNameError\u001b[0m: name 'target_texts' is not defined"
     ]
    }
   ],
   "source": [
    "target_seg = []\n",
    "target_input_seg = []\n",
    "for t in target_texts:\n",
    "    seg = jieba.lcut(t)\n",
    "    seg = [s for s in seg if s not in stop_words]\n",
    "    target_seg.append(seg + ['<eos>'])\n",
    "    target_input_seg.append(['<sos>'] + seg)"
   ]
  },
  {
   "cell_type": "code",
   "execution_count": 8,
   "metadata": {
    "scrolled": true
   },
   "outputs": [],
   "source": [
    "word2idx_outputs = {}\n",
    "\n",
    "for L in target_seg:\n",
    "    for token in L + ['<sos>']:\n",
    "        if token not in word2idx_outputs:\n",
    "            word2idx_outputs[token] = len(word2idx_outputs) + 1"
   ]
  },
  {
   "cell_type": "code",
   "execution_count": 9,
   "metadata": {},
   "outputs": [],
   "source": [
    "target_sequences = []\n",
    "target_input_sequences = []\n",
    "\n",
    "for L in target_seg:\n",
    "    sequence = []\n",
    "    for seg in L:\n",
    "        sequence.append(word2idx_outputs.get(seg))\n",
    "    target_sequences.append(sequence)\n",
    "\n",
    "for L in target_input_seg:\n",
    "    sequence = []\n",
    "    for seg in L:\n",
    "        sequence.append(word2idx_outputs.get(seg))\n",
    "    target_input_sequences.append(sequence)"
   ]
  },
  {
   "cell_type": "code",
   "execution_count": 10,
   "metadata": {},
   "outputs": [
    {
     "name": "stdout",
     "output_type": "stream",
     "text": [
      "Found 6651 unique output tokens.\n"
     ]
    }
   ],
   "source": [
    "print('Found %s unique output tokens.' % len(word2idx_outputs))\n",
    "\n",
    "num_words_output = len(word2idx_outputs) + 1\n",
    "\n",
    "max_len_target = max(len(s) for s in target_sequences)"
   ]
  },
  {
   "cell_type": "code",
   "execution_count": 11,
   "metadata": {},
   "outputs": [
    {
     "name": "stdout",
     "output_type": "stream",
     "text": [
      "encoder_inputs.shape: (10000, 9)\n",
      "encoder_inputs[0]: [  0   0   0   0   0   0   0   0 911]\n",
      "decoder_inputs[0]: [3 1 0 0 0 0 0 0 0 0 0 0 0]\n",
      "decoder_inputs.shape: (10000, 13)\n"
     ]
    }
   ],
   "source": [
    "# pad the sequences\n",
    "encoder_inputs = pad_sequences(input_sequences, maxlen=max_len_input)\n",
    "print(\"encoder_inputs.shape:\", encoder_inputs.shape)\n",
    "print(\"encoder_inputs[0]:\", encoder_inputs[0])\n",
    "\n",
    "decoder_inputs = pad_sequences(target_input_sequences, maxlen=max_len_target, padding='post')\n",
    "print(\"decoder_inputs[0]:\", decoder_inputs[0])\n",
    "print(\"decoder_inputs.shape:\", decoder_inputs.shape)\n",
    "\n",
    "decoder_targets = pad_sequences(target_sequences, maxlen=max_len_target, padding='post')"
   ]
  },
  {
   "cell_type": "code",
   "execution_count": 12,
   "metadata": {},
   "outputs": [
    {
     "name": "stdout",
     "output_type": "stream",
     "text": [
      "Found 400000 word vectors.\n"
     ]
    }
   ],
   "source": [
    "# store all the pre-trained word vectors\n",
    "word2vec = {}\n",
    "with open(os.path.join('../large_files/glove.6B/glove.6B.%sd.txt' % EMBEDDING_DIM), encoding='utf-8') as f:\n",
    "  for line in f:\n",
    "    values = line.split()\n",
    "    word = values[0]\n",
    "    vec = np.asarray(values[1:], dtype='float32')\n",
    "    word2vec[word] = vec\n",
    "    \n",
    "print('Found %s word vectors.' % len(word2vec))"
   ]
  },
  {
   "cell_type": "code",
   "execution_count": 13,
   "metadata": {
    "code_folding": [
     0
    ]
   },
   "outputs": [],
   "source": [
    "# prepare embedding matrix\n",
    "num_words = min(MAX_NUM_WORDS, len(word2idx_inputs) + 1)\n",
    "embedding_matrix = np.zeros((num_words, EMBEDDING_DIM))\n",
    "for word, i in word2idx_inputs.items():\n",
    "  if i < MAX_NUM_WORDS:\n",
    "    embedding_vector = word2vec.get(word)\n",
    "    if embedding_vector is not None:\n",
    "      # words not found in embedding index will be all zeros.\n",
    "      embedding_matrix[i] = embedding_vector"
   ]
  },
  {
   "cell_type": "code",
   "execution_count": 14,
   "metadata": {},
   "outputs": [],
   "source": [
    "# create embedding layer\n",
    "embedding_layer = Embedding(\n",
    "  num_words,\n",
    "  EMBEDDING_DIM,\n",
    "  weights=[embedding_matrix],\n",
    "  input_length=max_len_input\n",
    ")"
   ]
  },
  {
   "cell_type": "code",
   "execution_count": 15,
   "metadata": {},
   "outputs": [],
   "source": [
    "# create targets, since we cannot use sparse\n",
    "# categorical cross entropy when we have sequences\n",
    "decoder_targets_one_hot = np.zeros(\n",
    "  (\n",
    "    len(input_texts),\n",
    "    max_len_target,\n",
    "    num_words_output\n",
    "  ),\n",
    "  dtype='float32'\n",
    ")\n",
    "\n",
    "# assign the values\n",
    "for i, d in enumerate(decoder_targets):\n",
    "  for t, word in enumerate(d):\n",
    "    decoder_targets_one_hot[i, t, word] = 1"
   ]
  },
  {
   "cell_type": "code",
   "execution_count": 16,
   "metadata": {},
   "outputs": [
    {
     "name": "stdout",
     "output_type": "stream",
     "text": [
      "WARNING:tensorflow:From C:\\Users\\Amo.CH.Liu\\AppData\\Local\\Continuum\\anaconda3\\envs\\tensorflow-gpu\\lib\\site-packages\\tensorflow_core\\python\\ops\\resource_variable_ops.py:1630: calling BaseResourceVariable.__init__ (from tensorflow.python.ops.resource_variable_ops) with constraint is deprecated and will be removed in a future version.\n",
      "Instructions for updating:\n",
      "If using Keras pass *_constraint arguments to layers.\n"
     ]
    }
   ],
   "source": [
    "##### build the model #####\n",
    "encoder_inputs_placeholder = Input(shape=(max_len_input,))\n",
    "x = embedding_layer(encoder_inputs_placeholder)\n",
    "encoder = LSTM(\n",
    "  LATENT_DIM,\n",
    "  return_state=True,\n",
    "  recurrent_dropout=0.5 \n",
    ")\n",
    "encoder_outputs, h, c = encoder(x)\n",
    "\n",
    "# keep only the states to pass into decoder\n",
    "encoder_states = [h, c]\n",
    "\n",
    "# Set up the decoder, using [h, c] as initial state.\n",
    "decoder_inputs_placeholder = Input(shape=(max_len_target,))\n",
    "\n",
    "# this word embedding will not use pre-trained vectors\n",
    "# although you could\n",
    "decoder_embedding = Embedding(num_words_output, LATENT_DIM)\n",
    "decoder_inputs_x = decoder_embedding(decoder_inputs_placeholder)\n",
    "\n",
    "# since the decoder is a \"to-many\" model we want to have\n",
    "# return_sequences=True\n",
    "decoder_lstm = LSTM(\n",
    "  LATENT_DIM,\n",
    "  return_sequences=True,\n",
    "  return_state=True,\n",
    "  recurrent_dropout=0.5\n",
    ")\n",
    "decoder_outputs, _, _ = decoder_lstm(\n",
    "  decoder_inputs_x,\n",
    "  initial_state=encoder_states\n",
    ")\n",
    "\n",
    "# final dense layer for predictions\n",
    "decoder_dense = Dense(num_words_output, activation='softmax')\n",
    "decoder_outputs = decoder_dense(decoder_outputs)\n",
    "\n",
    "# Create the model object\n",
    "model = Model([encoder_inputs_placeholder, decoder_inputs_placeholder], decoder_outputs)"
   ]
  },
  {
   "cell_type": "code",
   "execution_count": 17,
   "metadata": {
    "scrolled": false
   },
   "outputs": [
    {
     "name": "stdout",
     "output_type": "stream",
     "text": [
      "Model: \"model_1\"\n",
      "__________________________________________________________________________________________________\n",
      "Layer (type)                    Output Shape         Param #     Connected to                     \n",
      "==================================================================================================\n",
      "input_1 (InputLayer)            (None, 9)            0                                            \n",
      "__________________________________________________________________________________________________\n",
      "input_2 (InputLayer)            (None, 13)           0                                            \n",
      "__________________________________________________________________________________________________\n",
      "embedding_1 (Embedding)         (None, 9, 100)       347300      input_1[0][0]                    \n",
      "__________________________________________________________________________________________________\n",
      "embedding_2 (Embedding)         (None, 13, 256)      1702912     input_2[0][0]                    \n",
      "__________________________________________________________________________________________________\n",
      "lstm_1 (LSTM)                   [(None, 256), (None, 365568      embedding_1[0][0]                \n",
      "__________________________________________________________________________________________________\n",
      "lstm_2 (LSTM)                   [(None, 13, 256), (N 525312      embedding_2[0][0]                \n",
      "                                                                 lstm_1[0][1]                     \n",
      "                                                                 lstm_1[0][2]                     \n",
      "__________________________________________________________________________________________________\n",
      "dense_1 (Dense)                 (None, 13, 6652)     1709564     lstm_2[0][0]                     \n",
      "==================================================================================================\n",
      "Total params: 4,650,656\n",
      "Trainable params: 4,650,656\n",
      "Non-trainable params: 0\n",
      "__________________________________________________________________________________________________\n"
     ]
    }
   ],
   "source": [
    "model.summary()"
   ]
  },
  {
   "cell_type": "code",
   "execution_count": 18,
   "metadata": {},
   "outputs": [],
   "source": [
    "def custom_loss(y_true, y_pred):\n",
    "    mask = K.cast(y_true > 0, dtype='float32')\n",
    "    out = mask * y_true * K.log(y_pred)\n",
    "    return -K.sum(out) / K.sum(mask)\n",
    "\n",
    "\n",
    "def acc(y_true, y_pred):\n",
    "    targ = K.argmax(y_true, axis=-1)\n",
    "    pred = K.argmax(y_pred, axis=-1)\n",
    "    correct = K.cast(K.equal(targ, pred), dtype='float32')\n",
    "\n",
    "  # 0 is padding, don't include those\n",
    "    mask = K.cast(K.greater(targ, 0), dtype='float32')\n",
    "    n_correct = K.sum(mask * correct)\n",
    "    n_total = K.sum(mask)\n",
    "    return n_correct / n_total"
   ]
  },
  {
   "cell_type": "code",
   "execution_count": 19,
   "metadata": {},
   "outputs": [
    {
     "name": "stdout",
     "output_type": "stream",
     "text": [
      "WARNING:tensorflow:From C:\\Users\\Amo.CH.Liu\\AppData\\Local\\Continuum\\anaconda3\\envs\\tensorflow-gpu\\lib\\site-packages\\keras\\backend\\tensorflow_backend.py:422: The name tf.global_variables is deprecated. Please use tf.compat.v1.global_variables instead.\n",
      "\n",
      "Train on 8000 samples, validate on 2000 samples\n",
      "Epoch 1/50\n",
      "8000/8000 [==============================] - 10s 1ms/step - loss: 3.0541 - acc: 0.0905 - val_loss: 2.9789 - val_acc: 0.1646\n",
      "Epoch 2/50\n",
      "8000/8000 [==============================] - 9s 1ms/step - loss: 2.1595 - acc: 0.2393 - val_loss: 2.9114 - val_acc: 0.2002\n",
      "Epoch 3/50\n",
      "8000/8000 [==============================] - 9s 1ms/step - loss: 2.0571 - acc: 0.2528 - val_loss: 2.8592 - val_acc: 0.2093\n",
      "Epoch 4/50\n",
      "8000/8000 [==============================] - 9s 1ms/step - loss: 1.9556 - acc: 0.2716 - val_loss: 2.8029 - val_acc: 0.2393\n",
      "Epoch 5/50\n",
      "8000/8000 [==============================] - 9s 1ms/step - loss: 1.8486 - acc: 0.3110 - val_loss: 2.7380 - val_acc: 0.2657\n",
      "Epoch 6/50\n",
      "8000/8000 [==============================] - 9s 1ms/step - loss: 1.7411 - acc: 0.3442 - val_loss: 2.6961 - val_acc: 0.2848\n",
      "Epoch 7/50\n",
      "8000/8000 [==============================] - 9s 1ms/step - loss: 1.6401 - acc: 0.3696 - val_loss: 2.6453 - val_acc: 0.3003\n",
      "Epoch 8/50\n",
      "8000/8000 [==============================] - 9s 1ms/step - loss: 1.5416 - acc: 0.3942 - val_loss: 2.6008 - val_acc: 0.3099\n",
      "Epoch 9/50\n",
      "8000/8000 [==============================] - 9s 1ms/step - loss: 1.4517 - acc: 0.4143 - val_loss: 2.5793 - val_acc: 0.3204\n",
      "Epoch 10/50\n",
      "8000/8000 [==============================] - 9s 1ms/step - loss: 1.3644 - acc: 0.4306 - val_loss: 2.5591 - val_acc: 0.3262\n",
      "Epoch 11/50\n",
      "8000/8000 [==============================] - 9s 1ms/step - loss: 1.2812 - acc: 0.4466 - val_loss: 2.5460 - val_acc: 0.3328\n",
      "Epoch 12/50\n",
      "8000/8000 [==============================] - 9s 1ms/step - loss: 1.2001 - acc: 0.4644 - val_loss: 2.5287 - val_acc: 0.3388\n",
      "Epoch 13/50\n",
      "8000/8000 [==============================] - 9s 1ms/step - loss: 1.1212 - acc: 0.4821 - val_loss: 2.5125 - val_acc: 0.3414\n",
      "Epoch 14/50\n",
      "8000/8000 [==============================] - 9s 1ms/step - loss: 1.0450 - acc: 0.5006 - val_loss: 2.5072 - val_acc: 0.3463\n",
      "Epoch 15/50\n",
      "8000/8000 [==============================] - 9s 1ms/step - loss: 0.9702 - acc: 0.5223 - val_loss: 2.4943 - val_acc: 0.3507\n",
      "Epoch 16/50\n",
      "8000/8000 [==============================] - 9s 1ms/step - loss: 0.8974 - acc: 0.5481 - val_loss: 2.4849 - val_acc: 0.3570\n",
      "Epoch 17/50\n",
      "8000/8000 [==============================] - 9s 1ms/step - loss: 0.8280 - acc: 0.5725 - val_loss: 2.4792 - val_acc: 0.3587\n",
      "Epoch 18/50\n",
      "8000/8000 [==============================] - 9s 1ms/step - loss: 0.7610 - acc: 0.6011 - val_loss: 2.4659 - val_acc: 0.3626\n",
      "Epoch 19/50\n",
      "8000/8000 [==============================] - 9s 1ms/step - loss: 0.6982 - acc: 0.6320 - val_loss: 2.4827 - val_acc: 0.3649\n",
      "Epoch 20/50\n",
      "8000/8000 [==============================] - 9s 1ms/step - loss: 0.6388 - acc: 0.6608 - val_loss: 2.4793 - val_acc: 0.3700\n",
      "Epoch 21/50\n",
      "8000/8000 [==============================] - 9s 1ms/step - loss: 0.5845 - acc: 0.6892 - val_loss: 2.4781 - val_acc: 0.3703\n",
      "Epoch 22/50\n",
      "8000/8000 [==============================] - 9s 1ms/step - loss: 0.5341 - acc: 0.7171 - val_loss: 2.4906 - val_acc: 0.3720\n",
      "Epoch 23/50\n",
      "8000/8000 [==============================] - 9s 1ms/step - loss: 0.4879 - acc: 0.7429 - val_loss: 2.4914 - val_acc: 0.3742\n",
      "Epoch 24/50\n",
      "8000/8000 [==============================] - 9s 1ms/step - loss: 0.4472 - acc: 0.7665 - val_loss: 2.4962 - val_acc: 0.3800\n",
      "Epoch 25/50\n",
      "8000/8000 [==============================] - 9s 1ms/step - loss: 0.4085 - acc: 0.7870 - val_loss: 2.5045 - val_acc: 0.3792\n",
      "Epoch 26/50\n",
      "8000/8000 [==============================] - 9s 1ms/step - loss: 0.3749 - acc: 0.8039 - val_loss: 2.5135 - val_acc: 0.3756\n",
      "Epoch 27/50\n",
      "8000/8000 [==============================] - 9s 1ms/step - loss: 0.3447 - acc: 0.8193 - val_loss: 2.5294 - val_acc: 0.3816\n",
      "Epoch 28/50\n",
      "8000/8000 [==============================] - 9s 1ms/step - loss: 0.3167 - acc: 0.8354 - val_loss: 2.5385 - val_acc: 0.3822\n",
      "Epoch 29/50\n",
      "8000/8000 [==============================] - 9s 1ms/step - loss: 0.2919 - acc: 0.8488 - val_loss: 2.5397 - val_acc: 0.3794\n",
      "Epoch 30/50\n",
      "8000/8000 [==============================] - 9s 1ms/step - loss: 0.2690 - acc: 0.8606 - val_loss: 2.5586 - val_acc: 0.3789\n",
      "Epoch 31/50\n",
      "8000/8000 [==============================] - 9s 1ms/step - loss: 0.2480 - acc: 0.8746 - val_loss: 2.5760 - val_acc: 0.3820\n",
      "Epoch 32/50\n",
      "8000/8000 [==============================] - 9s 1ms/step - loss: 0.2297 - acc: 0.8822 - val_loss: 2.5709 - val_acc: 0.3827\n",
      "Epoch 33/50\n",
      "8000/8000 [==============================] - 9s 1ms/step - loss: 0.2129 - acc: 0.8923 - val_loss: 2.6029 - val_acc: 0.3825\n",
      "Epoch 34/50\n",
      "8000/8000 [==============================] - 9s 1ms/step - loss: 0.1963 - acc: 0.9030 - val_loss: 2.6184 - val_acc: 0.3823\n",
      "Epoch 35/50\n",
      "8000/8000 [==============================] - 9s 1ms/step - loss: 0.1820 - acc: 0.9100 - val_loss: 2.6284 - val_acc: 0.3826\n",
      "Epoch 36/50\n",
      "8000/8000 [==============================] - 9s 1ms/step - loss: 0.1695 - acc: 0.9178 - val_loss: 2.6416 - val_acc: 0.3846\n",
      "Epoch 37/50\n",
      "8000/8000 [==============================] - 9s 1ms/step - loss: 0.1566 - acc: 0.9249 - val_loss: 2.6554 - val_acc: 0.3854\n",
      "Epoch 38/50\n",
      "8000/8000 [==============================] - 9s 1ms/step - loss: 0.1449 - acc: 0.9307 - val_loss: 2.6673 - val_acc: 0.3821\n",
      "Epoch 39/50\n",
      "8000/8000 [==============================] - 9s 1ms/step - loss: 0.1353 - acc: 0.9366 - val_loss: 2.6779 - val_acc: 0.3842\n",
      "Epoch 40/50\n",
      "8000/8000 [==============================] - 9s 1ms/step - loss: 0.1257 - acc: 0.9419 - val_loss: 2.6983 - val_acc: 0.3859\n",
      "Epoch 41/50\n",
      "8000/8000 [==============================] - 9s 1ms/step - loss: 0.1180 - acc: 0.9456 - val_loss: 2.6996 - val_acc: 0.3861\n",
      "Epoch 42/50\n",
      "8000/8000 [==============================] - 9s 1ms/step - loss: 0.1102 - acc: 0.9494 - val_loss: 2.7137 - val_acc: 0.3852\n",
      "Epoch 43/50\n",
      "8000/8000 [==============================] - 9s 1ms/step - loss: 0.1026 - acc: 0.9547 - val_loss: 2.7317 - val_acc: 0.3882\n",
      "Epoch 44/50\n",
      "8000/8000 [==============================] - 9s 1ms/step - loss: 0.0954 - acc: 0.9569 - val_loss: 2.7422 - val_acc: 0.3841\n",
      "Epoch 45/50\n",
      "8000/8000 [==============================] - 9s 1ms/step - loss: 0.0894 - acc: 0.9605 - val_loss: 2.7585 - val_acc: 0.3847\n",
      "Epoch 46/50\n",
      "8000/8000 [==============================] - 9s 1ms/step - loss: 0.0839 - acc: 0.9636 - val_loss: 2.7701 - val_acc: 0.3856\n",
      "Epoch 47/50\n",
      "8000/8000 [==============================] - 9s 1ms/step - loss: 0.0785 - acc: 0.9669 - val_loss: 2.7847 - val_acc: 0.3882\n",
      "Epoch 48/50\n",
      "8000/8000 [==============================] - 9s 1ms/step - loss: 0.0735 - acc: 0.9682 - val_loss: 2.7955 - val_acc: 0.3869\n",
      "Epoch 49/50\n",
      "8000/8000 [==============================] - 9s 1ms/step - loss: 0.0688 - acc: 0.9707 - val_loss: 2.8088 - val_acc: 0.3864\n",
      "Epoch 50/50\n",
      "8000/8000 [==============================] - 9s 1ms/step - loss: 0.0647 - acc: 0.9724 - val_loss: 2.8254 - val_acc: 0.3839\n"
     ]
    }
   ],
   "source": [
    "model.compile(optimizer='adam', loss=custom_loss, metrics=[acc])\n",
    "\n",
    "r = model.fit(\n",
    "  [encoder_inputs, decoder_inputs], decoder_targets_one_hot,\n",
    "  batch_size=BATCH_SIZE,\n",
    "  epochs=EPOCHS,\n",
    "  validation_split=0.2,\n",
    ")"
   ]
  },
  {
   "cell_type": "code",
   "execution_count": 20,
   "metadata": {},
   "outputs": [
    {
     "data": {
      "image/png": "[encoded data removed]",
      "text/plain": [
       "<Figure size 432x288 with 1 Axes>"
      ]
     },
     "metadata": {
      "needs_background": "light"
     },
     "output_type": "display_data"
    },
    {
     "data": {
      "image/png": "[encoded data removed]",
      "text/plain": [
       "<Figure size 432x288 with 1 Axes>"
      ]
     },
     "metadata": {
      "needs_background": "light"
     },
     "output_type": "display_data"
    }
   ],
   "source": [
    "# plot some data\n",
    "plt.plot(r.history['loss'], label='loss')\n",
    "plt.plot(r.history['val_loss'], label='val_loss')\n",
    "plt.legend()\n",
    "plt.show()\n",
    "\n",
    "# accuracies\n",
    "plt.plot(r.history['acc'], label='acc')\n",
    "plt.plot(r.history['val_acc'], label='val_acc')\n",
    "plt.legend()\n",
    "plt.show()\n",
    "\n",
    "# Save model\n",
    "model.save('s2s.h5')"
   ]
  },
  {
   "cell_type": "code",
   "execution_count": 21,
   "metadata": {},
   "outputs": [],
   "source": [
    "# from keras.models import load_model\n",
    "# import keras.losses\n",
    "# keras.losses.custom_loss = custom_loss\n",
    "\n",
    "# model = load_model('s2s.h5')"
   ]
  },
  {
   "cell_type": "code",
   "execution_count": 22,
   "metadata": {},
   "outputs": [],
   "source": [
    "##### Make predictions #####\n",
    "# As with the poetry example, we need to create another model\n",
    "# that can take in the RNN state and previous word as input\n",
    "# and accept a T=1 sequence.\n",
    "\n",
    "# The encoder will be stand-alone\n",
    "# From this we will get our initial decoder hidden state\n",
    "encoder_model = Model(encoder_inputs_placeholder, encoder_states)\n",
    "\n",
    "decoder_state_input_h = Input(shape=(LATENT_DIM,))\n",
    "decoder_state_input_c = Input(shape=(LATENT_DIM,))\n",
    "decoder_states_inputs = [decoder_state_input_h, decoder_state_input_c]\n",
    "\n",
    "decoder_inputs_single = Input(shape=(1,))\n",
    "decoder_inputs_single_x = decoder_embedding(decoder_inputs_single)\n",
    "\n",
    "decoder_outputs, h, c = decoder_lstm(\n",
    "  decoder_inputs_single_x,\n",
    "  initial_state=decoder_states_inputs\n",
    ")\n",
    "\n",
    "decoder_states = [h, c]\n",
    "\n",
    "decoder_outputs = decoder_dense(decoder_outputs)\n",
    "\n",
    "# The sampling model\n",
    "# inputs: y(t-1), h(t-1), c(t-1)\n",
    "# outputs: y(t), h(t), c(t)\n",
    "decoder_model = Model(\n",
    "  [decoder_inputs_single] + decoder_states_inputs, \n",
    "  [decoder_outputs] + decoder_states\n",
    ")\n",
    "\n",
    "# map indexes back into real words\n",
    "idx2word_eng = {v:k for k, v in word2idx_inputs.items()}\n",
    "idx2word_trans = {v:k for k, v in word2idx_outputs.items()}\n",
    "\n",
    "\n",
    "def decode_sequence(input_seq):\n",
    "  # Encode the input as state vectors.\n",
    "  states_value = encoder_model.predict(input_seq)\n",
    "\n",
    "  # Generate empty target sequence of length 1.\n",
    "  target_seq = np.zeros((1, 1))\n",
    "\n",
    "  # Populate the first character of target sequence with the start character.\n",
    "  # NOTE: tokenizer lower-cases all words\n",
    "  target_seq[0, 0] = word2idx_outputs['<sos>']\n",
    "\n",
    "  # if we get this we break\n",
    "  eos = word2idx_outputs['<eos>']\n",
    "\n",
    "  # Create the translation\n",
    "  output_sentence = []\n",
    "  for _ in range(max_len_target):\n",
    "    output_tokens, h, c = decoder_model.predict(\n",
    "      [target_seq] + states_value\n",
    "    )\n",
    "    # Get next word\n",
    "    idx = np.argmax(output_tokens[0, 0, :])\n",
    "\n",
    "    # End sentence of EOS\n",
    "    if eos == idx:\n",
    "      break\n",
    "\n",
    "    word = ''\n",
    "    if idx > 0:\n",
    "      word = idx2word_trans[idx]\n",
    "      output_sentence.append(word)\n",
    "\n",
    "    # Update the decoder input\n",
    "    # which is just the word just generated\n",
    "    target_seq[0, 0] = idx\n",
    "\n",
    "    # Update states\n",
    "    states_value = [h, c]\n",
    "    # states_value = [h] # gru\n",
    "\n",
    "  return ' '.join(output_sentence)"
   ]
  },
  {
   "cell_type": "code",
   "execution_count": 23,
   "metadata": {
    "scrolled": false
   },
   "outputs": [
    {
     "name": "stdout",
     "output_type": "stream",
     "text": [
      "-\n",
      "Input: She is very clever.\n",
      "Translation: 她 很 聰明\n",
      "Continue? [Y/n]y\n",
      "-\n",
      "Input: You could have done it.\n",
      "Translation: 你 本來 可以 做 的\n",
      "Continue? [Y/n]y\n",
      "-\n",
      "Input: Do you like apples?\n",
      "Translation: 你 喜欢 苹果 吗\n",
      "Continue? [Y/n]y\n",
      "-\n",
      "Input: Shake my hand.\n",
      "Translation: 和 我 握手\n",
      "Continue? [Y/n]y\n",
      "-\n",
      "Input: Let me die.\n",
      "Translation: 让 我 去 死\n",
      "Continue? [Y/n]y\n",
      "-\n",
      "Input: I go to school.\n",
      "Translation: 我 去 学校\n",
      "Continue? [Y/n]y\n",
      "-\n",
      "Input: I continued singing.\n",
      "Translation: 我繼續 唱歌\n",
      "Continue? [Y/n]y\n",
      "-\n",
      "Input: She smiled.\n",
      "Translation: 她 笑 了\n",
      "Continue? [Y/n]y\n",
      "-\n",
      "Input: That was really unfair.\n",
      "Translation: 那真 不 公平\n",
      "Continue? [Y/n]y\n",
      "-\n",
      "Input: I've never seen a live whale.\n",
      "Translation: 我 幾乎 沒 有 一 隻 貓\n",
      "Continue? [Y/n]y\n",
      "-\n",
      "Input: Mars has two natural moons.\n",
      "Translation: 火星 有 兩個 天然 衛星\n",
      "Continue? [Y/n]y\n",
      "-\n",
      "Input: She lived for a long time.\n",
      "Translation: 她 活 了 很 久\n",
      "Continue? [Y/n]y\n",
      "-\n",
      "Input: He is afraid of snakes.\n",
      "Translation: 他 怕 蛇\n",
      "Continue? [Y/n]y\n",
      "-\n",
      "Input: Let them decide.\n",
      "Translation: 讓 他們 決定\n",
      "Continue? [Y/n]y\n",
      "-\n",
      "Input: He's strong.\n",
      "Translation: 他 很 強壯\n",
      "Continue? [Y/n]y\n",
      "-\n",
      "Input: We'll talk later.\n",
      "Translation: 我们 过 一会 再谈\n",
      "Continue? [Y/n]y\n",
      "-\n",
      "Input: I lived abroad for ten years.\n",
      "Translation: 我 住 在 这区\n",
      "Continue? [Y/n]y\n",
      "-\n",
      "Input: This is so boring.\n",
      "Translation: 这太 无聊 了\n",
      "Continue? [Y/n]y\n",
      "-\n",
      "Input: He went back to the store.\n",
      "Translation: 他 回 店里 去 了\n",
      "Continue? [Y/n]n\n"
     ]
    }
   ],
   "source": [
    "# translating texts in trainging corpus\n",
    "while True:\n",
    "  i = np.random.choice(len(input_texts))\n",
    "  input_seq = encoder_inputs[i:i+1]\n",
    "  translation = decode_sequence(input_seq)\n",
    "  print('-')\n",
    "  print('Input:', input_texts[i])\n",
    "  print('Translation:', translation)\n",
    "\n",
    "  ans = input(\"Continue? [Y/n]\")\n",
    "  if ans and ans.lower().startswith('n'):\n",
    "    break"
   ]
  }
 ],
 "metadata": {
  "kernelspec": {
   "display_name": "Python 3",
   "language": "python",
   "name": "python3"
  },
  "language_info": {
   "codemirror_mode": {
    "name": "ipython",
    "version": 3
   },
   "file_extension": ".py",
   "mimetype": "text/x-python",
   "name": "python",
   "nbconvert_exporter": "python",
   "pygments_lexer": "ipython3",
   "version": "3.6.9"
  },
  "toc": {
   "base_numbering": 1,
   "nav_menu": {},
   "number_sections": false,
   "sideBar": true,
   "skip_h1_title": false,
   "title_cell": "Table of Contents",
   "title_sidebar": "Contents",
   "toc_cell": false,
   "toc_position": {},
   "toc_section_display": true,
   "toc_window_display": false
  },
  "varInspector": {
   "cols": {
    "lenName": 16,
    "lenType": 16,
    "lenVar": 40
   },
   "kernels_config": {
    "python": {
     "delete_cmd_postfix": "",
     "delete_cmd_prefix": "del ",
     "library": "var_list.py",
     "varRefreshCmd": "print(var_dic_list())"
    },
    "r": {
     "delete_cmd_postfix": ") ",
     "delete_cmd_prefix": "rm(",
     "library": "var_list.r",
     "varRefreshCmd": "cat(var_dic_list()) "
    }
   },
   "types_to_exclude": [
    "module",
    "function",
    "builtin_function_or_method",
    "instance",
    "_Feature"
   ],
   "window_display": false
  }
 },
 "nbformat": 4,
 "nbformat_minor": 2
}
