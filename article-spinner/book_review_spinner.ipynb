{
 "cells": [
  {
   "cell_type": "code",
   "execution_count": 14,
   "metadata": {},
   "outputs": [],
   "source": [
    "import nltk\n",
    "import random\n",
    "import numpy as np\n",
    "\n",
    "from bs4 import BeautifulSoup"
   ]
  },
  {
   "cell_type": "code",
   "execution_count": 5,
   "metadata": {},
   "outputs": [],
   "source": [
    "# load the reviews\n",
    "# data courtesy of http://www.cs.jhu.edu/~mdredze/datasets/sentiment/index2.html\n",
    "positive_reviews = BeautifulSoup(open('../large_files/electronics/positive.review', encoding='utf-8').read())\n",
    "positive_reviews = positive_reviews.findAll('review_text')"
   ]
  },
  {
   "cell_type": "code",
   "execution_count": 87,
   "metadata": {
    "code_folding": []
   },
   "outputs": [],
   "source": [
    "# extract trigrams and insert into dictionary\n",
    "# (w1, w3) is the key, [ w2 ] are the values\n",
    "trigrams = {}\n",
    "for review in positive_reviews:\n",
    "    s = review.text.lower()\n",
    "    tokens = nltk.tokenize.word_tokenize(s)\n",
    "    for i in range(len(tokens) - 2):\n",
    "        k = (tokens[i], tokens[i+2])\n",
    "        if k not in trigrams:\n",
    "            trigrams[k] = []\n",
    "        trigrams[k].append(tokens[i+1])\n",
    "\n",
    "# turn each array of middle-words into a probability vector\n",
    "trigram_probabilities = {}\n",
    "for k, words in trigrams.items():\n",
    "    # create a dictionary of word -> count\n",
    "    if len(set(words)) > 1:\n",
    "        # only do this when there are different possibilities for a middle word\n",
    "        d = {}\n",
    "        n = 0\n",
    "        for w in words:\n",
    "            if w not in d:\n",
    "                d[w] = 0\n",
    "            d[w] += 1\n",
    "            n += 1\n",
    "        for w, c in d.items():\n",
    "            d[w] = float(c) / n\n",
    "\n",
    "        trigram_probabilities[k] = d"
   ]
  },
  {
   "cell_type": "code",
   "execution_count": 89,
   "metadata": {},
   "outputs": [
    {
     "name": "stdout",
     "output_type": "stream",
     "text": [
      "('i', 'this') {'purchased': 0.12422360248447205, 'bought': 0.3105590062111801, 'recomend': 0.006211180124223602, 'made': 0.012422360248447204, 'picked': 0.018633540372670808, 'say': 0.006211180124223602, 'use': 0.055900621118012424, 'had': 0.006211180124223602, 'got': 0.055900621118012424, 'think': 0.037267080745341616, 'ordered': 0.012422360248447204, 'matched': 0.006211180124223602, 'noticed': 0.006211180124223602, 'thought': 0.006211180124223602, 'recommend': 0.024844720496894408, 'choose': 0.006211180124223602, 'like': 0.012422360248447204, 'found': 0.055900621118012424, 'did': 0.018633540372670808, 'find': 0.024844720496894408, 'set': 0.006211180124223602, 'love': 0.024844720496894408, 'hold': 0.006211180124223602, 'received': 0.012422360248447204, 'have': 0.018633540372670808, 'buy': 0.006211180124223602, 'chose': 0.012422360248447204, 'put': 0.006211180124223602, 'used': 0.012422360248447204, 'give': 0.006211180124223602, 'believe': 0.006211180124223602, 'mention': 0.006211180124223602, 'worked': 0.006211180124223602, 'bet': 0.006211180124223602, 'went': 0.006211180124223602, 'pop': 0.006211180124223602, 'selected': 0.006211180124223602, 'heard': 0.006211180124223602, 'do': 0.006211180124223602, 'checked': 0.006211180124223602, 'plugged': 0.006211180124223602, 'consider': 0.006211180124223602, 'reccomend': 0.006211180124223602}\n",
      "('purchased', 'unit') {'this': 0.5, 'the': 0.5}\n",
      "('unit', 'to') {'due': 0.25, ',': 0.25, 'where': 0.25, 'prior': 0.25}\n",
      "('in', 'area') {'my': 0.3333333333333333, 'this': 0.6666666666666666}\n",
      "('my', 'and') {'area': 0.016129032258064516, 'camera': 0.016129032258064516, 'files': 0.016129032258064516, 'itrip': 0.016129032258064516, 'ipod': 0.06451612903225806, 'needs': 0.016129032258064516, 'mac': 0.03225806451612903, 'dvd/cd': 0.016129032258064516, 'head': 0.03225806451612903, 'ears': 0.016129032258064516, 'imac': 0.016129032258064516, 'notebook': 0.016129032258064516, 't.v': 0.016129032258064516, 'cellphone': 0.016129032258064516, 'notes': 0.016129032258064516, 'office': 0.016129032258064516, 'window': 0.016129032258064516, 'pc': 0.03225806451612903, 'friends': 0.016129032258064516, 'ear': 0.03225806451612903, 'taste': 0.016129032258064516, 'netgear': 0.016129032258064516, 'phone': 0.016129032258064516, 'jazz': 0.016129032258064516, 'shoulder': 0.016129032258064516, 'pocket': 0.03225806451612903, 'gut': 0.016129032258064516, 'side': 0.016129032258064516, 'walls': 0.016129032258064516, 'computer': 0.03225806451612903, 'husband': 0.03225806451612903, 'movies': 0.016129032258064516, 'wife': 0.06451612903225806, 'psp': 0.016129032258064516, 'laptop': 0.03225806451612903, 'stereo': 0.016129032258064516, 'order': 0.016129032258064516, 'router': 0.016129032258064516, 'lap': 0.016129032258064516, 'mp3': 0.016129032258064516, 'first': 0.016129032258064516, 'friend': 0.016129032258064516, 'nightstand': 0.016129032258064516, 'purchase': 0.016129032258064516, 'calendar': 0.016129032258064516, 'powerbook': 0.016129032258064516, 'quickcam': 0.016129032258064516, 'mp500': 0.016129032258064516}\n"
     ]
    }
   ],
   "source": [
    "# View some probability of model\n",
    "i = 0\n",
    "for k, v in trigram_probabilities.items():\n",
    "    print(k, v)\n",
    "    \n",
    "    i +=1\n",
    "    if i >= 5:\n",
    "        break"
   ]
  },
  {
   "cell_type": "code",
   "execution_count": 104,
   "metadata": {},
   "outputs": [],
   "source": [
    "# def random_sample(d):\n",
    "#     # choose a random sample from dictionary where values are the probabilities\n",
    "#     r = random.random()\n",
    "#     cumulative = 0\n",
    "#     for w, p in d.items():\n",
    "#         cumulative += p\n",
    "#         if r < cumulative:\n",
    "#             return w\n",
    "\n",
    "def random_sample(d):\n",
    "    all_words = [k for k in d.keys()]\n",
    "    probs = [v for v in d.values()]\n",
    "    \n",
    "    w = np.random.choice(all_words, 1, p=probs)\n",
    "    return w[0]\n",
    "\n",
    "def run_spinner():\n",
    "    review = random.choice(positive_reviews)\n",
    "    s = review.text.lower()\n",
    "    original_tokens = nltk.tokenize.word_tokenize(s)\n",
    "    new_tokens = nltk.tokenize.word_tokenize(s)\n",
    "    for i in range(len(original_tokens) - 2):\n",
    "        if random.random() < 0.2: # 20% chance of replacement\n",
    "            k = (original_tokens[i], original_tokens[i+2])\n",
    "            if k in trigram_probabilities:\n",
    "                w = random_sample(trigram_probabilities[k])\n",
    "                new_tokens[i+1] = \"-{}-\".format(w)\n",
    "                original_tokens[i+1] = \"-{}-\".format(original_tokens[i+1])\n",
    "    print(\"Orignal:\")\n",
    "    print(\" \".join(original_tokens))\n",
    "    \n",
    "    print(\"Spun:\")\n",
    "    print(\" \".join(new_tokens))"
   ]
  },
  {
   "cell_type": "code",
   "execution_count": 107,
   "metadata": {},
   "outputs": [
    {
     "name": "stdout",
     "output_type": "stream",
     "text": [
      "Orignal:\n",
      "i bought this -speaker- cable -because- i wanted it to fall in a straight line and -hug- the walls without curling all over the -place- . this cable does just that . i 'm very happy -with- it . if that -is- your goal too , i can recommend this cable . regarding the long standing debate of whether monster cable sounds better than cheaper cable , i 'm not an audio engineer and do n't have an opinion\n",
      "Spun:\n",
      "i bought this -thx- cable -.- i wanted it to fall in a straight line and -asked- the walls without curling all over the -interference- . this cable does just that . i 'm very happy -with- it . if that -bought- your goal too , i can recommend this cable . regarding the long standing debate of whether monster cable sounds better than cheaper cable , i 'm not an audio engineer and do n't have an opinion\n",
      "\n",
      "\n",
      "Orignal:\n",
      "i bought this reader because i -wanted- to avoid having my camera and all its cable -attached- to my pc to download the pictures ; and -with- this reader i could leave my camera -(- and its cables ) in its case and just -download- the -picture- with the memory -card- , i recomend this product ... .\n",
      "Spun:\n",
      "i bought this reader because i -had- to avoid having my camera and all its cable -solely- to my pc to download the pictures ; and -with- this reader i could leave my camera -,- and its cables ) in its case and just -wanted- the -ease- with the memory -card- , i recomend this product ... .\n",
      "\n",
      "\n",
      "Orignal:\n",
      "around here canon ink is difficult to -locate- and expensive when you actually find someone who carries it . it may take a week or -two- to arrive using amazon 's free shipping option , but i get fantatstic results from my canon pixma mp780 ( that -i- also bought from amazon ) . most of my -printing- is borderless 8 1/2x11 and -the- quality is always great . definitely worth it . if turnaround time -is- a problem , buy two so you always have a spare .\n",
      "Spun:\n",
      "around here canon ink is difficult to -sensitivity- and expensive when you actually find someone who carries it . it may take a week or -want- to arrive using amazon 's free shipping option , but i get fantatstic results from my canon pixma mp780 ( that -i- also bought from amazon ) . most of my -opinion- is borderless 8 1/2x11 and -wire- quality is always great . definitely worth it . if turnaround time -is- a problem , buy two so you always have a spare .\n",
      "\n",
      "\n",
      "Orignal:\n",
      "having been a buyer of sennheiser products for over 10 years , -i- feel it is time i -endorse- a -product- i truly believe in , and have -never- been let down by . including -service- and customer satisfaction . each time -buying- a -sennheiser- product -,- i found myself stepping up -to- the -next- level of their headphones -,- because -they- simply keep improving their technology to the point that -what- you used to own by them gets overwhelmed by the latest headphone they -offer- . -when- i bought the hd-600 's , i had just come away from years owning the hd-25 . when these encountered a technical problem , i replaced them with a backup choice , the -hd-25sp- 's . the difference in sound going 'lower ' down their scale of products was just too much to bear . so i bit the bullet and went -higher- . whether you use -sennheiser- 's merely for pleasure , or for studio work , the accuracy of their -sound- , and what you get for your money can not be beat . my hd-600 's ran into a small technical -glitch- ( and sennheiser were extremely helpful in getting this fixed and replaced within 2 -days- of receipt ) , and i swear i nearly cried in their absence . hd-600 's give you a -clear- idea of how -things- were recorded , how -good- your system is , and -what- truly sounds inferior . you never -listen- to -things- quite the -same- way again . the reason my reviews of paul -mccartney- and john lennon albums from the 70 's all comment on how inferior the -recording- quality is ( especially compared to the so called `` economy class beatles '' george harrison 's and ringo starr 's albums from the -same- decade ) -,- is down to what hd-600 's reveal . my main source of media -tends- to be -vinyl- , because compact discs and dvd 's still can not capture what analogue/turntable equipment captures . vinyl is simply warmer and more 'round ' in comparison to its digital counterparts . and when listening to badly recorded albums , hd-600 's -make- you wonder if you -spent- more on your headphones than the artist did using a studio . -hd-600- 's are the -reason- i mention time -and- time again you -are- not getting -value- for money when buying -lennon- and mccartney solo albums . listening to `` -take- it away '' from 1982 's tug of war reveals an annoying tape hiss coming from the -left- side of the stereofield . which sounds much like someone forgot to 'silence ' a track that had a recording -on- it , before the instrument actually showed up in the -song- . -it- sounds totally like electrical / amp noise coming from equipment , and geoff emerick or george martin just simply -forgot- to keep this track silent until the -instrument- that occupied that track appeared in -the- song . it -gets- much worse than 'take it away ' on paul mccartney albums , and even more painfully so on john lennon albums . but listening pleasure can be found recording wise on their solo albums back to the egg , ram , double fantasy , milk and honey , and some -portions- of -band- on the -run- , and -walls- and -bridges- . # 9 dream is simply a gorgeous recording -,- it 's -just- too -bad- the rest of the album does n't sound as good as that one song . when you listen to your -cd- 's , vinyl , dvd 's in whatever room of -your- house your speakers -are- , the room dictates what you hear , no matter what you 've -spent- on speakers , power amps , -woofers- , sub-dividers , etc . -whether- you have wall to wall carpeting , high ceilings , low ceilings , plaster or cement , wood floors , a more long than wide room -,- it all affects how sound reaches your -ear- . -which- is why on a -great- set of headphones , -you- are more likely to hear how those sounds were meant to be heard , how they were -recorded- , and how much time was spent doing -it- . -on- speakers , mccartney 's jet sounds quite full , though the snare is a little thin . but when hearing the album with hd-600 's -,- the drums nearly become non-existent , and all the inconsistencies of the recording become so apparent , you wonder if the -mix- was -sabotaged- by -someone- . mccartney on drums is not a -miracle- , especially -when- you hear many of the -mistakes- being made by someone not as confident on that instrument as they -are- on bass . can i review anything without bringing up lennon and mccartney ? quite possibly dog food . but so far -,- they come up pretty regularly . makes you -wonder- if i 'm trying to prove a point does n't it . albums that are phenomenally recorded get due justice with sennhesier hd-600 's . they truly -do- . some noteworthy recordings from the -70- 's and 80 's when recording technology ( for popular music ) -was- just beginning to reach new highs , -that- are all hd-600 friendly : isao tomita 's the firebird ( 1976 ) george harrison 's -eponymous- album ( 1979 ) steely dan 's gaucho ( 1980 ) joe walsh 's the smoker you drink , the -player- you get ( 1973 ) 10cc 's the original soundtrack ( 1975 ) godley & creme 's consequences ( 1977 ) -supertramp- 's crime of the century ( 1974 ) xtc 's black sea ( 1980 ) peter gabriel 's 3rd album ( 1980 ) kate bush 's the dreaming ( -1982- ) earth wind and fire 's all ' n ' all ( 1977 ) level 42 's the pursuit of accidents ( 1982 ) billy cobham 's spectrum ( 1972 ) frank zappa 's one size fits all ( 1975 ) ringo starr 's goodnight vienna ( 1974 ) -and- a truly incredible sounding album from the 90 's , prince and the new power generation 's `` -symbol- '' album from 1992. albums not hd-600 friendly : todd rundgren 's hermit of mink hollow ( 1978 ) blue oyster cult 's agents of fortune ( -1976- ) paul mccartney 's venus and mars ( 1975 - and quite a few others ) john lennon 's imagine ( -1971- - and avoid 1970 's instant karma like the -plague- , the piano track will hurt you . . ) yes 's fragile ( often the guitars and keyboards hit frequencies that cause a lot of -crackling- and clipping ) and surprisingly -enough- , many remasters of albums once on vinyl or antiquated cd reveal the errors of fixing something that ai n't -broken- . if -you- have to -save- up for a pair , or do some heavy searching for hd-600 's that are affordable , do so . in over 10 -years- i have never been disappointed by anything sennheiser distributed , especially when i kept up -with- their pace .\n",
      "Spun:\n",
      "having been a buyer of sennheiser products for over 10 years , -i- feel it is time i -was- a -store- i truly believe in , and have -never- been let down by . including -tax- and customer satisfaction . each time -is- a -great- product -,- i found myself stepping up -with- the -bass- level of their headphones -,- because -it- simply keep improving their technology to the point that -when- you used to own by them gets overwhelmed by the latest headphone they -offer- . -and- i bought the hd-600 's , i had just come away from years owning the hd-25 . when these encountered a technical problem , i replaced them with a backup choice , the -eb- 's . the difference in sound going 'lower ' down their scale of products was just too much to bear . so i bit the bullet and went -smoothly- . whether you use -pro-4aa- 's merely for pleasure , or for studio work , the accuracy of their -minidiscs- , and what you get for your money can not be beat . my hd-600 's ran into a small technical -issues- ( and sennheiser were extremely helpful in getting this fixed and replaced within 2 -hours- of receipt ) , and i swear i nearly cried in their absence . hd-600 's give you a -great- idea of how -they- were recorded , how -recent- your system is , and -a- truly sounds inferior . you never -seem- to -things- quite the -only- way again . the reason my reviews of paul -mccartney- and john lennon albums from the 70 's all comment on how inferior the -highest- quality is ( especially compared to the so called `` economy class beatles '' george harrison 's and ringo starr 's albums from the -past- decade ) -there- is down to what hd-600 's reveal . my main source of media -tends- to be -shipped- , because compact discs and dvd 's still can not capture what analogue/turntable equipment captures . vinyl is simply warmer and more 'round ' in comparison to its digital counterparts . and when listening to badly recorded albums , hd-600 's -give- you wonder if you -spent- more on your headphones than the artist did using a studio . -it- 's are the -time- i mention time -and- time again you -will- not getting -value- for money when buying -lennon- and mccartney solo albums . listening to `` -replace- it away '' from 1982 's tug of war reveals an annoying tape hiss coming from the -down- side of the stereofield . which sounds much like someone forgot to 'silence ' a track that had a recording -,- it , before the instrument actually showed up in the -reviews- . -it- sounds totally like electrical / amp noise coming from equipment , and geoff emerick or george martin just simply -converting- to keep this track silent until the -reviews- that occupied that track appeared in -the- song . it -is- much worse than 'take it away ' on paul mccartney albums , and even more painfully so on john lennon albums . but listening pleasure can be found recording wise on their solo albums back to the egg , ram , double fantasy , milk and honey , and some -sort- of -these- on the -belt- , and -off- and -use- . # 9 dream is simply a gorgeous recording -on- it 's -advertized- too -bad- the rest of the album does n't sound as good as that one song . when you listen to your -cd- 's , vinyl , dvd 's in whatever room of -the- house your speakers -)- , the room dictates what you hear , no matter what you 've -seen- on speakers , power amps , -rich- , sub-dividers , etc . -whether- you have wall to wall carpeting , high ceilings , low ceilings , plaster or cement , wood floors , a more long than wide room -,- it all affects how sound reaches your -body- . -vinyl- is why on a -good- set of headphones , -these- are more likely to hear how those sounds were meant to be heard , how they were -recorded- , and how much time was spent doing -it- . -these- speakers , mccartney 's jet sounds quite full , though the snare is a little thin . but when hearing the album with hd-600 's -worth- the drums nearly become non-existent , and all the inconsistencies of the recording become so apparent , you wonder if the -remote- was -produced- by -far- . mccartney on drums is not a -wildfire- , especially -if- you hear many of the -scene- being made by someone not as confident on that instrument as they -are- on bass . can i review anything without bringing up lennon and mccartney ? quite possibly dog food . but so far -,- they come up pretty regularly . makes you -.- if i 'm trying to prove a point does n't it . albums that are phenomenally recorded get due justice with sennhesier hd-600 's . they truly -is- . some noteworthy recordings from the -eb- 's and 80 's when recording technology ( for popular music ) -and- just beginning to reach new highs , -there- are all hd-600 friendly : isao tomita 's the firebird ( 1976 ) george harrison 's -3rd- album ( 1979 ) steely dan 's gaucho ( 1980 ) joe walsh 's the smoker you drink , the -price- you get ( 1973 ) 10cc 's the original soundtrack ( 1975 ) godley & creme 's consequences ( 1977 ) -yes- 's crime of the century ( 1974 ) xtc 's black sea ( 1980 ) peter gabriel 's 3rd album ( 1980 ) kate bush 's the dreaming ( -192.168.1.245- ) earth wind and fire 's all ' n ' all ( 1977 ) level 42 's the pursuit of accidents ( 1982 ) billy cobham 's spectrum ( 1972 ) frank zappa 's one size fits all ( 1975 ) ringo starr 's goodnight vienna ( 1974 ) -for- a truly incredible sounding album from the 90 's , prince and the new power generation 's `` -bad- '' album from 1992. albums not hd-600 friendly : todd rundgren 's hermit of mink hollow ( 1978 ) blue oyster cult 's agents of fortune ( -video- ) paul mccartney 's venus and mars ( 1975 - and quite a few others ) john lennon 's imagine ( -no- - and avoid 1970 's instant karma like the -button- , the piano track will hurt you . . ) yes 's fragile ( often the guitars and keyboards hit frequencies that cause a lot of -good- and clipping ) and surprisingly -enough- , many remasters of albums once on vinyl or antiquated cd reveal the errors of fixing something that ai n't -it- . if -you- have to -crank- up for a pair , or do some heavy searching for hd-600 's that are affordable , do so . in over 10 -minutes- i have never been disappointed by anything sennheiser distributed , especially when i kept up -with- their pace .\n",
      "\n",
      "\n",
      "Orignal:\n",
      "i ordered the 4 meter cable which was -pictured- with 24 pin connectors and received one with 18 pins . -found- out that the missing middle 6 pins are -used- to transmit audio which my monitor does n't support -anyway- . originally , the dvi-d specification allowed for both a -video- signal and an audio -signal- , but most manufacturer 's have only used the -video- portion . if -you- need a -dvi-d- cable , an 18 pin connector will most likely work since most devices wo n't process the audio signal anyway . there are -a- few ( very few ) devices that do use all 24 pins , but with the -advent- of hdmi , nobody really makes them anymore\n",
      "Spun:\n",
      "i ordered the 4 meter cable which was -installed- with 24 pin connectors and received one with 18 pins . -seals- out that the missing middle 6 pins are -easy- to transmit audio which my monitor does n't support -incidents- . originally , the dvi-d specification allowed for both a -video- signal and an audio -hardware- , but most manufacturer 's have only used the -video- portion . if -you- need a -dvi- cable , an 18 pin connector will most likely work since most devices wo n't process the audio signal anyway . there are -a- few ( very few ) devices that do use all 24 pins , but with the -den- of hdmi , nobody really makes them anymore\n",
      "\n",
      "\n"
     ]
    }
   ],
   "source": [
    "for i in range(5):\n",
    "    run_spinner()\n",
    "    print('\\n')"
   ]
  }
 ],
 "metadata": {
  "kernelspec": {
   "display_name": "Python 3",
   "language": "python",
   "name": "python3"
  },
  "language_info": {
   "codemirror_mode": {
    "name": "ipython",
    "version": 3
   },
   "file_extension": ".py",
   "mimetype": "text/x-python",
   "name": "python",
   "nbconvert_exporter": "python",
   "pygments_lexer": "ipython3",
   "version": "3.7.3"
  },
  "toc": {
   "base_numbering": 1,
   "nav_menu": {},
   "number_sections": false,
   "sideBar": true,
   "skip_h1_title": false,
   "title_cell": "Table of Contents",
   "title_sidebar": "Contents",
   "toc_cell": false,
   "toc_position": {},
   "toc_section_display": true,
   "toc_window_display": false
  },
  "varInspector": {
   "cols": {
    "lenName": 16,
    "lenType": 16,
    "lenVar": 40
   },
   "kernels_config": {
    "python": {
     "delete_cmd_postfix": "",
     "delete_cmd_prefix": "del ",
     "library": "var_list.py",
     "varRefreshCmd": "print(var_dic_list())"
    },
    "r": {
     "delete_cmd_postfix": ") ",
     "delete_cmd_prefix": "rm(",
     "library": "var_list.r",
     "varRefreshCmd": "cat(var_dic_list()) "
    }
   },
   "types_to_exclude": [
    "module",
    "function",
    "builtin_function_or_method",
    "instance",
    "_Feature"
   ],
   "window_display": false
  }
 },
 "nbformat": 4,
 "nbformat_minor": 4
}
